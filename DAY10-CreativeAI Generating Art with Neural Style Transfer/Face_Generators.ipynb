{
 "cells": [
  {
   "cell_type": "code",
   "execution_count": 1,
   "metadata": {
    "colab": {
     "base_uri": "https://localhost:8080/"
    },
    "id": "OiyQ9Idf_iWg",
    "outputId": "432dfff2-a8b1-4e60-c2a4-b6dd1814436a"
   },
   "outputs": [
    {
     "name": "stderr",
     "output_type": "stream",
     "text": [
      "Cloning into 'Face-Generator-with-GAN'...\n",
      "Updating files:  70% (7/10)\n",
      "Updating files:  80% (8/10)\n",
      "Updating files:  90% (9/10)\n",
      "Updating files: 100% (10/10)\n",
      "Updating files: 100% (10/10), done.\n"
     ]
    }
   ],
   "source": [
    "!git clone https://github.com/AshishJangra27/Face-Generator-with-GAN"
   ]
  },
  {
   "cell_type": "code",
   "execution_count": 2,
   "metadata": {
    "id": "hOW1bOdRECJh"
   },
   "outputs": [
    {
     "ename": "FileNotFoundError",
     "evalue": "[Errno 2] Unable to synchronously open file (unable to open file: name = '/content/Face-Generator-with-GAN/generator_700.h5', errno = 2, error message = 'No such file or directory', flags = 0, o_flags = 0)",
     "output_type": "error",
     "traceback": [
      "\u001b[1;31m---------------------------------------------------------------------------\u001b[0m",
      "\u001b[1;31mFileNotFoundError\u001b[0m                         Traceback (most recent call last)",
      "Cell \u001b[1;32mIn[2], line 8\u001b[0m\n\u001b[0;32m      4\u001b[0m \u001b[38;5;28;01mimport\u001b[39;00m\u001b[38;5;250m \u001b[39m\u001b[38;5;21;01mos\u001b[39;00m\n\u001b[0;32m      6\u001b[0m os\u001b[38;5;241m.\u001b[39menviron[\u001b[38;5;124m\"\u001b[39m\u001b[38;5;124mCUDA_VISIBLE_DEVICES\u001b[39m\u001b[38;5;124m\"\u001b[39m] \u001b[38;5;241m=\u001b[39m \u001b[38;5;124m\"\u001b[39m\u001b[38;5;124m-1\u001b[39m\u001b[38;5;124m\"\u001b[39m\n\u001b[1;32m----> 8\u001b[0m generator \u001b[38;5;241m=\u001b[39m \u001b[43mtf\u001b[49m\u001b[38;5;241;43m.\u001b[39;49m\u001b[43mkeras\u001b[49m\u001b[38;5;241;43m.\u001b[39;49m\u001b[43mmodels\u001b[49m\u001b[38;5;241;43m.\u001b[39;49m\u001b[43mload_model\u001b[49m\u001b[43m(\u001b[49m\u001b[38;5;124;43m'\u001b[39;49m\u001b[38;5;124;43m/content/Face-Generator-with-GAN/generator_700.h5\u001b[39;49m\u001b[38;5;124;43m'\u001b[39;49m\u001b[43m,\u001b[49m\u001b[43m \u001b[49m\u001b[38;5;28;43mcompile\u001b[39;49m\u001b[38;5;241;43m=\u001b[39;49m\u001b[38;5;28;43;01mFalse\u001b[39;49;00m\u001b[43m)\u001b[49m\n",
      "File \u001b[1;32m~\\Documents\\21_Days_21_Projects_GFG\\venvGFG\\lib\\site-packages\\keras\\src\\saving\\saving_api.py:196\u001b[0m, in \u001b[0;36mload_model\u001b[1;34m(filepath, custom_objects, compile, safe_mode)\u001b[0m\n\u001b[0;32m    189\u001b[0m     \u001b[38;5;28;01mreturn\u001b[39;00m saving_lib\u001b[38;5;241m.\u001b[39mload_model(\n\u001b[0;32m    190\u001b[0m         filepath,\n\u001b[0;32m    191\u001b[0m         custom_objects\u001b[38;5;241m=\u001b[39mcustom_objects,\n\u001b[0;32m    192\u001b[0m         \u001b[38;5;28mcompile\u001b[39m\u001b[38;5;241m=\u001b[39m\u001b[38;5;28mcompile\u001b[39m,\n\u001b[0;32m    193\u001b[0m         safe_mode\u001b[38;5;241m=\u001b[39msafe_mode,\n\u001b[0;32m    194\u001b[0m     )\n\u001b[0;32m    195\u001b[0m \u001b[38;5;28;01mif\u001b[39;00m \u001b[38;5;28mstr\u001b[39m(filepath)\u001b[38;5;241m.\u001b[39mendswith((\u001b[38;5;124m\"\u001b[39m\u001b[38;5;124m.h5\u001b[39m\u001b[38;5;124m\"\u001b[39m, \u001b[38;5;124m\"\u001b[39m\u001b[38;5;124m.hdf5\u001b[39m\u001b[38;5;124m\"\u001b[39m)):\n\u001b[1;32m--> 196\u001b[0m     \u001b[38;5;28;01mreturn\u001b[39;00m \u001b[43mlegacy_h5_format\u001b[49m\u001b[38;5;241;43m.\u001b[39;49m\u001b[43mload_model_from_hdf5\u001b[49m\u001b[43m(\u001b[49m\n\u001b[0;32m    197\u001b[0m \u001b[43m        \u001b[49m\u001b[43mfilepath\u001b[49m\u001b[43m,\u001b[49m\n\u001b[0;32m    198\u001b[0m \u001b[43m        \u001b[49m\u001b[43mcustom_objects\u001b[49m\u001b[38;5;241;43m=\u001b[39;49m\u001b[43mcustom_objects\u001b[49m\u001b[43m,\u001b[49m\n\u001b[0;32m    199\u001b[0m \u001b[43m        \u001b[49m\u001b[38;5;28;43mcompile\u001b[39;49m\u001b[38;5;241;43m=\u001b[39;49m\u001b[38;5;28;43mcompile\u001b[39;49m\u001b[43m,\u001b[49m\n\u001b[0;32m    200\u001b[0m \u001b[43m        \u001b[49m\u001b[43msafe_mode\u001b[49m\u001b[38;5;241;43m=\u001b[39;49m\u001b[43msafe_mode\u001b[49m\u001b[43m,\u001b[49m\n\u001b[0;32m    201\u001b[0m \u001b[43m    \u001b[49m\u001b[43m)\u001b[49m\n\u001b[0;32m    202\u001b[0m \u001b[38;5;28;01melif\u001b[39;00m \u001b[38;5;28mstr\u001b[39m(filepath)\u001b[38;5;241m.\u001b[39mendswith(\u001b[38;5;124m\"\u001b[39m\u001b[38;5;124m.keras\u001b[39m\u001b[38;5;124m\"\u001b[39m):\n\u001b[0;32m    203\u001b[0m     \u001b[38;5;28;01mraise\u001b[39;00m \u001b[38;5;167;01mValueError\u001b[39;00m(\n\u001b[0;32m    204\u001b[0m         \u001b[38;5;124mf\u001b[39m\u001b[38;5;124m\"\u001b[39m\u001b[38;5;124mFile not found: filepath=\u001b[39m\u001b[38;5;132;01m{\u001b[39;00mfilepath\u001b[38;5;132;01m}\u001b[39;00m\u001b[38;5;124m. \u001b[39m\u001b[38;5;124m\"\u001b[39m\n\u001b[0;32m    205\u001b[0m         \u001b[38;5;124m\"\u001b[39m\u001b[38;5;124mPlease ensure the file is an accessible `.keras` \u001b[39m\u001b[38;5;124m\"\u001b[39m\n\u001b[0;32m    206\u001b[0m         \u001b[38;5;124m\"\u001b[39m\u001b[38;5;124mzip file.\u001b[39m\u001b[38;5;124m\"\u001b[39m\n\u001b[0;32m    207\u001b[0m     )\n",
      "File \u001b[1;32m~\\Documents\\21_Days_21_Projects_GFG\\venvGFG\\lib\\site-packages\\keras\\src\\legacy\\saving\\legacy_h5_format.py:118\u001b[0m, in \u001b[0;36mload_model_from_hdf5\u001b[1;34m(filepath, custom_objects, compile, safe_mode)\u001b[0m\n\u001b[0;32m    116\u001b[0m opened_new_file \u001b[38;5;241m=\u001b[39m \u001b[38;5;129;01mnot\u001b[39;00m \u001b[38;5;28misinstance\u001b[39m(filepath, h5py\u001b[38;5;241m.\u001b[39mFile)\n\u001b[0;32m    117\u001b[0m \u001b[38;5;28;01mif\u001b[39;00m opened_new_file:\n\u001b[1;32m--> 118\u001b[0m     f \u001b[38;5;241m=\u001b[39m \u001b[43mh5py\u001b[49m\u001b[38;5;241;43m.\u001b[39;49m\u001b[43mFile\u001b[49m\u001b[43m(\u001b[49m\u001b[43mfilepath\u001b[49m\u001b[43m,\u001b[49m\u001b[43m \u001b[49m\u001b[43mmode\u001b[49m\u001b[38;5;241;43m=\u001b[39;49m\u001b[38;5;124;43m\"\u001b[39;49m\u001b[38;5;124;43mr\u001b[39;49m\u001b[38;5;124;43m\"\u001b[39;49m\u001b[43m)\u001b[49m\n\u001b[0;32m    119\u001b[0m \u001b[38;5;28;01melse\u001b[39;00m:\n\u001b[0;32m    120\u001b[0m     f \u001b[38;5;241m=\u001b[39m filepath\n",
      "File \u001b[1;32m~\\Documents\\21_Days_21_Projects_GFG\\venvGFG\\lib\\site-packages\\h5py\\_hl\\files.py:564\u001b[0m, in \u001b[0;36mFile.__init__\u001b[1;34m(self, name, mode, driver, libver, userblock_size, swmr, rdcc_nslots, rdcc_nbytes, rdcc_w0, track_order, fs_strategy, fs_persist, fs_threshold, fs_page_size, page_buf_size, min_meta_keep, min_raw_keep, locking, alignment_threshold, alignment_interval, meta_block_size, **kwds)\u001b[0m\n\u001b[0;32m    555\u001b[0m     fapl \u001b[38;5;241m=\u001b[39m make_fapl(driver, libver, rdcc_nslots, rdcc_nbytes, rdcc_w0,\n\u001b[0;32m    556\u001b[0m                      locking, page_buf_size, min_meta_keep, min_raw_keep,\n\u001b[0;32m    557\u001b[0m                      alignment_threshold\u001b[38;5;241m=\u001b[39malignment_threshold,\n\u001b[0;32m    558\u001b[0m                      alignment_interval\u001b[38;5;241m=\u001b[39malignment_interval,\n\u001b[0;32m    559\u001b[0m                      meta_block_size\u001b[38;5;241m=\u001b[39mmeta_block_size,\n\u001b[0;32m    560\u001b[0m                      \u001b[38;5;241m*\u001b[39m\u001b[38;5;241m*\u001b[39mkwds)\n\u001b[0;32m    561\u001b[0m     fcpl \u001b[38;5;241m=\u001b[39m make_fcpl(track_order\u001b[38;5;241m=\u001b[39mtrack_order, fs_strategy\u001b[38;5;241m=\u001b[39mfs_strategy,\n\u001b[0;32m    562\u001b[0m                      fs_persist\u001b[38;5;241m=\u001b[39mfs_persist, fs_threshold\u001b[38;5;241m=\u001b[39mfs_threshold,\n\u001b[0;32m    563\u001b[0m                      fs_page_size\u001b[38;5;241m=\u001b[39mfs_page_size)\n\u001b[1;32m--> 564\u001b[0m     fid \u001b[38;5;241m=\u001b[39m \u001b[43mmake_fid\u001b[49m\u001b[43m(\u001b[49m\u001b[43mname\u001b[49m\u001b[43m,\u001b[49m\u001b[43m \u001b[49m\u001b[43mmode\u001b[49m\u001b[43m,\u001b[49m\u001b[43m \u001b[49m\u001b[43muserblock_size\u001b[49m\u001b[43m,\u001b[49m\u001b[43m \u001b[49m\u001b[43mfapl\u001b[49m\u001b[43m,\u001b[49m\u001b[43m \u001b[49m\u001b[43mfcpl\u001b[49m\u001b[43m,\u001b[49m\u001b[43m \u001b[49m\u001b[43mswmr\u001b[49m\u001b[38;5;241;43m=\u001b[39;49m\u001b[43mswmr\u001b[49m\u001b[43m)\u001b[49m\n\u001b[0;32m    566\u001b[0m \u001b[38;5;28;01mif\u001b[39;00m \u001b[38;5;28misinstance\u001b[39m(libver, \u001b[38;5;28mtuple\u001b[39m):\n\u001b[0;32m    567\u001b[0m     \u001b[38;5;28mself\u001b[39m\u001b[38;5;241m.\u001b[39m_libver \u001b[38;5;241m=\u001b[39m libver\n",
      "File \u001b[1;32m~\\Documents\\21_Days_21_Projects_GFG\\venvGFG\\lib\\site-packages\\h5py\\_hl\\files.py:238\u001b[0m, in \u001b[0;36mmake_fid\u001b[1;34m(name, mode, userblock_size, fapl, fcpl, swmr)\u001b[0m\n\u001b[0;32m    236\u001b[0m     \u001b[38;5;28;01mif\u001b[39;00m swmr \u001b[38;5;129;01mand\u001b[39;00m swmr_support:\n\u001b[0;32m    237\u001b[0m         flags \u001b[38;5;241m|\u001b[39m\u001b[38;5;241m=\u001b[39m h5f\u001b[38;5;241m.\u001b[39mACC_SWMR_READ\n\u001b[1;32m--> 238\u001b[0m     fid \u001b[38;5;241m=\u001b[39m \u001b[43mh5f\u001b[49m\u001b[38;5;241;43m.\u001b[39;49m\u001b[43mopen\u001b[49m\u001b[43m(\u001b[49m\u001b[43mname\u001b[49m\u001b[43m,\u001b[49m\u001b[43m \u001b[49m\u001b[43mflags\u001b[49m\u001b[43m,\u001b[49m\u001b[43m \u001b[49m\u001b[43mfapl\u001b[49m\u001b[38;5;241;43m=\u001b[39;49m\u001b[43mfapl\u001b[49m\u001b[43m)\u001b[49m\n\u001b[0;32m    239\u001b[0m \u001b[38;5;28;01melif\u001b[39;00m mode \u001b[38;5;241m==\u001b[39m \u001b[38;5;124m'\u001b[39m\u001b[38;5;124mr+\u001b[39m\u001b[38;5;124m'\u001b[39m:\n\u001b[0;32m    240\u001b[0m     fid \u001b[38;5;241m=\u001b[39m h5f\u001b[38;5;241m.\u001b[39mopen(name, h5f\u001b[38;5;241m.\u001b[39mACC_RDWR, fapl\u001b[38;5;241m=\u001b[39mfapl)\n",
      "File \u001b[1;32mh5py/_objects.pyx:56\u001b[0m, in \u001b[0;36mh5py._objects.with_phil.wrapper\u001b[1;34m()\u001b[0m\n",
      "File \u001b[1;32mh5py/_objects.pyx:57\u001b[0m, in \u001b[0;36mh5py._objects.with_phil.wrapper\u001b[1;34m()\u001b[0m\n",
      "File \u001b[1;32mh5py/h5f.pyx:102\u001b[0m, in \u001b[0;36mh5py.h5f.open\u001b[1;34m()\u001b[0m\n",
      "\u001b[1;31mFileNotFoundError\u001b[0m: [Errno 2] Unable to synchronously open file (unable to open file: name = '/content/Face-Generator-with-GAN/generator_700.h5', errno = 2, error message = 'No such file or directory', flags = 0, o_flags = 0)"
     ]
    }
   ],
   "source": [
    "import tensorflow as tf\n",
    "import numpy as np\n",
    "import matplotlib.pyplot as plt\n",
    "import os\n",
    "\n",
    "os.environ[\"CUDA_VISIBLE_DEVICES\"] = \"-1\"\n",
    "\n",
    "generator = tf.keras.models.load_model('/content/Face-Generator-with-GAN/generator_700.h5', compile=False)"
   ]
  },
  {
   "cell_type": "code",
   "execution_count": null,
   "metadata": {
    "colab": {
     "base_uri": "https://localhost:8080/",
     "height": 424
    },
    "id": "iNWDHoSzE5KM",
    "outputId": "95d92529-cc66-4c60-a895-76d1141e718a"
   },
   "outputs": [],
   "source": [
    "noise = tf.random.normal([1, 100])\n",
    "# noise += .5\n",
    "\n",
    "with tf.device('/CPU:0'):\n",
    "    generated_images = generator(noise, training=False)\n",
    "\n",
    "generated_images = (generated_images + 1) / 2.0\n",
    "\n",
    "plt.imshow(generated_images[0])\n",
    "plt.axis('off')"
   ]
  },
  {
   "cell_type": "code",
   "execution_count": null,
   "metadata": {
    "colab": {
     "base_uri": "https://localhost:8080/",
     "height": 611
    },
    "id": "zMJPWu7kFrCu",
    "outputId": "2407ba7c-e2f3-4820-c1cd-101f46ff7478"
   },
   "outputs": [],
   "source": [
    "def generate_variations(model, noise_dim=100, num_variations=10):\n",
    "\n",
    "    base_noise = tf.random.normal([1, noise_dim])\n",
    "\n",
    "    noise_modifications = np.linspace(-2, 2, num_variations)\n",
    "\n",
    "    fig, axes = plt.subplots(2, 5, figsize=(15, 6))  # 2 rows, 5 columns\n",
    "\n",
    "    for i, noise_offset in enumerate(noise_modifications):\n",
    "        variation_noise = base_noise + noise_offset\n",
    "\n",
    "        with tf.device('/CPU:0'):\n",
    "            generated_image = model(variation_noise, training=False)\n",
    "\n",
    "        generated_image = (generated_image + 1) / 2.0\n",
    "\n",
    "        ax = axes[i // 5, i % 5]\n",
    "        ax.imshow(generated_image[0])\n",
    "        ax.axis('off')\n",
    "        ax.set_title(f\"Noise {noise_offset:.1f}\")\n",
    "\n",
    "    plt.tight_layout()\n",
    "    plt.show()\n",
    "\n",
    "# Generate and display variations\n",
    "generate_variations(generator)"
   ]
  },
  {
   "cell_type": "code",
   "execution_count": null,
   "metadata": {
    "id": "Mv9I583FKPOy"
   },
   "outputs": [],
   "source": []
  },
  {
   "cell_type": "code",
   "execution_count": null,
   "metadata": {
    "colab": {
     "base_uri": "https://localhost:8080/",
     "height": 173
    },
    "id": "xQ3cvYFHJgv5",
    "outputId": "551e8596-d3b2-486d-bfa0-7ca76dcb4e49"
   },
   "outputs": [],
   "source": [
    "def generate_images_grid(model, noise_dim=100, num_images=10):\n",
    "\n",
    "    fig, axes = plt.subplots(1, num_images, figsize=(30, 5))  # Wider figure\n",
    "\n",
    "    for i in range(num_images):\n",
    "        noise = tf.random.normal([1, noise_dim])\n",
    "\n",
    "        with tf.device('/CPU:0'):\n",
    "            generated_image = model(noise, training=False)\n",
    "        generated_image = (generated_image + 1) / 2.0\n",
    "\n",
    "        axes[i].imshow(generated_image[0])\n",
    "        axes[i].axis('off')\n",
    "        axes[i].set_title(f\"Image {i+1}\", fontsize=12, pad=10)\n",
    "\n",
    "    plt.subplots_adjust(wspace=0.3)\n",
    "    plt.show()\n",
    "\n",
    "# Generate and display 10 images in a spaced 1x10 layout\n",
    "generate_images_grid(generator)\n"
   ]
  },
  {
   "cell_type": "code",
   "execution_count": null,
   "metadata": {
    "colab": {
     "base_uri": "https://localhost:8080/",
     "height": 467
    },
    "id": "boz0MvcfKZy1",
    "outputId": "4a26d5a6-140f-4142-fdf5-71a9b30ba1a9"
   },
   "outputs": [],
   "source": [
    "import tensorflow as tf\n",
    "import numpy as np\n",
    "import matplotlib.pyplot as plt\n",
    "import os\n",
    "\n",
    "# Force CPU execution\n",
    "os.environ[\"CUDA_VISIBLE_DEVICES\"] = \"-1\"\n",
    "\n",
    "# Function to generate images with and without added noise\n",
    "def generate_images_with_manipulated_noise(model, noise_dim=100, num_images=10):\n",
    "    # Generate base random noise vectors\n",
    "    base_noise = tf.random.normal([num_images, noise_dim])\n",
    "\n",
    "    # Generate a random noise vector to add to all base noise vectors\n",
    "    added_noise = tf.random.normal([1, noise_dim]) * 0.5  # Scaling factor for subtle manipulation\n",
    "\n",
    "    fig, axes = plt.subplots(2, num_images, figsize=(30, 10))  # 2 rows, num_images columns\n",
    "\n",
    "    for i in range(num_images):\n",
    "        noise = base_noise[i:i+1]  # Extract a single noise vector\n",
    "        manipulated_noise = noise + added_noise  # Add the same noise to all vectors\n",
    "\n",
    "        # Generate original image\n",
    "        with tf.device('/CPU:0'):\n",
    "            original_image = model(noise, training=False)\n",
    "            manipulated_image = model(manipulated_noise, training=False)\n",
    "\n",
    "        # Rescale images from [-1,1] to [0,1]\n",
    "        original_image = (original_image + 1) / 2.0\n",
    "        manipulated_image = (manipulated_image + 1) / 2.0\n",
    "\n",
    "        # Display manipulated image (Top row)\n",
    "        axes[0, i].imshow(manipulated_image[0])\n",
    "        axes[0, i].axis('off')\n",
    "        axes[0, i].set_title(f\"Manipulated {i+1}\", fontsize=12, pad=10)\n",
    "\n",
    "        # Display original image (Bottom row)\n",
    "        axes[1, i].imshow(original_image[0])\n",
    "        axes[1, i].axis('off')\n",
    "        axes[1, i].set_title(f\"Original {i+1}\", fontsize=12, pad=10)\n",
    "\n",
    "    # Adjust spacing\n",
    "    plt.subplots_adjust(wspace=0.3, hspace=0.3)\n",
    "    plt.show()\n",
    "\n",
    "# Generate and display manipulated vs. original images\n",
    "generate_images_with_manipulated_noise(generator)\n"
   ]
  },
  {
   "cell_type": "code",
   "execution_count": null,
   "metadata": {
    "colab": {
     "base_uri": "https://localhost:8080/",
     "height": 973
    },
    "id": "3VEo2oaCLkSs",
    "outputId": "c104e880-e355-4bef-d526-68f583fda61d"
   },
   "outputs": [],
   "source": [
    "import tensorflow as tf\n",
    "import numpy as np\n",
    "import matplotlib.pyplot as plt\n",
    "import os\n",
    "\n",
    "# Force CPU execution\n",
    "os.environ[\"CUDA_VISIBLE_DEVICES\"] = \"-1\"\n",
    "\n",
    "# Function to generate 6x10 variations of the same base image with nonlinear noise changes\n",
    "def generate_nonlinear_variations(model, noise_dim=100, rows=6, cols=10):\n",
    "    base_noise = tf.random.normal([1, noise_dim])  # Base noise\n",
    "\n",
    "    # Create nonlinear variations of noise\n",
    "    noise_modifications = np.linspace(-2, 2, rows * cols) * .35 # Base values\n",
    "    sinusoidal_variations = np.sin(noise_modifications) * .35  # Sinusoidal variation\n",
    "    exponential_variations = (np.exp(noise_modifications / 2) - 1) * 0.35  # Exponential variation\n",
    "    combined_variations = noise_modifications + sinusoidal_variations + exponential_variations  # Mix variations\n",
    "\n",
    "    fig, axes = plt.subplots(rows, cols, figsize=(30, 18))  # 6 rows, 10 columns\n",
    "\n",
    "    for i, noise_offset in enumerate(combined_variations):\n",
    "        variation_noise = base_noise + (noise_offset * tf.random.normal([1, noise_dim]))  # Apply variation in different directions\n",
    "\n",
    "        with tf.device('/CPU:0'):\n",
    "            generated_image = model(variation_noise, training=False)\n",
    "\n",
    "        generated_image = (generated_image + 1) / 2.0  # Rescale for visualization\n",
    "\n",
    "        ax = axes[i // cols, i % cols]\n",
    "        ax.imshow(generated_image[0])\n",
    "        ax.axis('off')\n",
    "        ax.set_title(f\"Variation {i+1}\", fontsize=10)\n",
    "\n",
    "    plt.tight_layout()\n",
    "    plt.show()\n",
    "\n",
    "# Generate and display nonlinear variations\n",
    "generate_nonlinear_variations(generator)"
   ]
  },
  {
   "cell_type": "code",
   "execution_count": null,
   "metadata": {
    "colab": {
     "base_uri": "https://localhost:8080/",
     "height": 424
    },
    "id": "FDjfnhyoN1R-",
    "outputId": "38573e15-77b3-40b6-a8f6-f864bc416beb"
   },
   "outputs": [],
   "source": [
    "noise = tf.random.normal([1, 100])\n",
    "\n",
    "with tf.device('/CPU:0'):\n",
    "    generated_images = generator(noise, training=False)\n",
    "\n",
    "generated_images = (generated_images + 1) / 2.0\n",
    "\n",
    "plt.imshow(generated_images[0])\n",
    "plt.axis('off')"
   ]
  },
  {
   "cell_type": "code",
   "execution_count": null,
   "metadata": {
    "id": "lcdt_uGVPnja"
   },
   "outputs": [],
   "source": []
  }
 ],
 "metadata": {
  "accelerator": "GPU",
  "colab": {
   "gpuType": "T4",
   "provenance": []
  },
  "kernelspec": {
   "display_name": "Python 3 (ipykernel)",
   "language": "python",
   "name": "python3"
  },
  "language_info": {
   "codemirror_mode": {
    "name": "ipython",
    "version": 3
   },
   "file_extension": ".py",
   "mimetype": "text/x-python",
   "name": "python",
   "nbconvert_exporter": "python",
   "pygments_lexer": "ipython3",
   "version": "3.10.0"
  },
  "widgets": {
   "application/vnd.jupyter.widget-state+json": {
    "state": {},
    "version_major": 2,
    "version_minor": 0
   }
  }
 },
 "nbformat": 4,
 "nbformat_minor": 4
}
