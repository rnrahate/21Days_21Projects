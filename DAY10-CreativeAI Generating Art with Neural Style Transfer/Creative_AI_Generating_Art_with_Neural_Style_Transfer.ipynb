{
  "cells": [
    {
      "cell_type": "markdown",
      "metadata": {
        "id": "XtFPU-gahtwS"
      },
      "source": [
        "# Important Links\n",
        "\n",
        "GAN for Face Generator: https://github.com/AshishJangra27/Face-Generator-with-GAN\n",
        "\n",
        "Gender Style Transfer: https://github.com/AshishJangra27/Gender-Style-Transfer\n",
        "\n",
        "Gender Classifier: https://github.com/AshishJangra27/Gender-Classifier\n",
        "\n",
        "LinkedIn: https://www.linkedin.com/in/ashish-jangra/"
      ]
    },
    {
      "cell_type": "markdown",
      "metadata": {
        "id": "RG5tYl3Gh98h"
      },
      "source": [
        "Assignment:\n",
        "\n",
        "- Load the pretrainde Generator\n",
        "- Load Gender Vector\n",
        "- Generate 10 variations of the image from male to female as per gender vector"
      ]
    },
    {
      "cell_type": "markdown",
      "metadata": {},
      "source": []
    }
  ],
  "metadata": {
    "colab": {
      "provenance": []
    },
    "kernelspec": {
      "display_name": "Python 3",
      "name": "python3"
    },
    "language_info": {
      "name": "python"
    }
  },
  "nbformat": 4,
  "nbformat_minor": 0
}
